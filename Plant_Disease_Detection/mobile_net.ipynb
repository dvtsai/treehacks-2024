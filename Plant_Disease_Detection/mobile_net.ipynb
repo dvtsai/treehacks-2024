{
 "cells": [
  {
   "cell_type": "code",
   "execution_count": 1,
   "id": "42bfd356-87d8-4309-8099-2e344d13c105",
   "metadata": {},
   "outputs": [
    {
     "name": "stdout",
     "output_type": "stream",
     "text": [
      "Cloning into 'PlantDoc-Dataset'...\n",
      "remote: Enumerating objects: 2670, done.\u001b[K\n",
      "remote: Counting objects: 100% (42/42), done.\u001b[K\n",
      "remote: Compressing objects: 100% (20/20), done.\u001b[K\n",
      "remote: Total 2670 (delta 23), reused 41 (delta 22), pack-reused 2628\u001b[K\n",
      "Receiving objects: 100% (2670/2670), 932.92 MiB | 64.59 MiB/s, done.\n",
      "Resolving deltas: 100% (24/24), done.\n",
      "Updating files: 100% (2581/2581), done.\n"
     ]
    }
   ],
   "source": [
    "!git clone https://github.com/pratikkayal/PlantDoc-Dataset.git"
   ]
  },
  {
   "cell_type": "code",
   "execution_count": 72,
   "id": "fa07b7ce-a6dd-4fb9-beaa-c2f3284ee7c7",
   "metadata": {},
   "outputs": [
    {
     "name": "stdout",
     "output_type": "stream",
     "text": [
      "Cloning into 'imagenet-sample-images'...\n",
      "remote: Enumerating objects: 1012, done.\u001b[K\n",
      "remote: Counting objects: 100% (10/10), done.\u001b[K\n",
      "remote: Compressing objects: 100% (8/8), done.\u001b[K\n",
      "remote: Total 1012 (delta 3), reused 5 (delta 2), pack-reused 1002\u001b[K\n",
      "Receiving objects: 100% (1012/1012), 103.84 MiB | 58.81 MiB/s, done.\n",
      "Resolving deltas: 100% (3/3), done.\n",
      "Updating files: 100% (1002/1002), done.\n"
     ]
    }
   ],
   "source": [
    "!git clone https://github.com/EliSchwartz/imagenet-sample-images.git"
   ]
  },
  {
   "cell_type": "code",
   "execution_count": 1,
   "id": "97631749-f4cd-4e35-9fc7-f973ca8046ed",
   "metadata": {},
   "outputs": [
    {
     "name": "stdout",
     "output_type": "stream",
     "text": [
      "List of Intel GPUs available on the system:\n",
      "+-----------+--------------------------------------------------------------------------------------+\n",
      "| Device ID | Device Information                                                                   |\n",
      "+-----------+--------------------------------------------------------------------------------------+\n",
      "| 0         | Device Name: Intel(R) Data Center GPU Max 1100                                       |\n",
      "|           | Vendor Name: Intel(R) Corporation                                                    |\n",
      "|           | UUID: 00000000-0000-0029-0000-002f0bda8086                                           |\n",
      "|           | PCI BDF Address: 0000:29:00.0                                                        |\n",
      "|           | DRM Device: /dev/dri/card1                                                           |\n",
      "|           | Function Type: physical                                                              |\n",
      "+-----------+--------------------------------------------------------------------------------------+\n",
      "| 1         | Device Name: Intel(R) Data Center GPU Max 1100                                       |\n",
      "|           | Vendor Name: Intel(R) Corporation                                                    |\n",
      "|           | UUID: 00000000-0000-003a-0000-002f0bda8086                                           |\n",
      "|           | PCI BDF Address: 0000:3a:00.0                                                        |\n",
      "|           | DRM Device: /dev/dri/card2                                                           |\n",
      "|           | Function Type: physical                                                              |\n",
      "+-----------+--------------------------------------------------------------------------------------+\n",
      "| 2         | Device Name: Intel(R) Data Center GPU Max 1100                                       |\n",
      "|           | Vendor Name: Intel(R) Corporation                                                    |\n",
      "|           | UUID: 00000000-0000-009a-0000-002f0bda8086                                           |\n",
      "|           | PCI BDF Address: 0000:9a:00.0                                                        |\n",
      "|           | DRM Device: /dev/dri/card3                                                           |\n",
      "|           | Function Type: physical                                                              |\n",
      "+-----------+--------------------------------------------------------------------------------------+\n",
      "| 3         | Device Name: Intel(R) Data Center GPU Max 1100                                       |\n",
      "|           | Vendor Name: Intel(R) Corporation                                                    |\n",
      "|           | UUID: 00000000-0000-00ca-0000-002f0bda8086                                           |\n",
      "|           | PCI BDF Address: 0000:ca:00.0                                                        |\n",
      "|           | DRM Device: /dev/dri/card4                                                           |\n",
      "|           | Function Type: physical                                                              |\n",
      "+-----------+--------------------------------------------------------------------------------------+\n",
      "Intel Xeon CPU used by this notebook:\n",
      "Model name:                         Intel(R) Xeon(R) Platinum 8480+\n"
     ]
    }
   ],
   "source": [
    "!echo \"List of Intel GPUs available on the system:\"\n",
    "!xpu-smi  discovery 2> /dev/null\n",
    "!echo \"Intel Xeon CPU used by this notebook:\"\n",
    "!lscpu | grep \"Model name\""
   ]
  },
  {
   "cell_type": "code",
   "execution_count": 23,
   "id": "4ac994b2-fbe7-4d42-a71f-05b3ab1d3f27",
   "metadata": {},
   "outputs": [],
   "source": [
    "import torch\n",
    "import torch.nn as nn\n",
    "import torchvision\n",
    "torchvision.disable_beta_transforms_warning()\n",
    "import torchvision.transforms.v2\n",
    "from torchvision import transforms\n",
    "import intel_extension_for_pytorch as ipex\n",
    "from PIL import Image\n",
    "from tqdm.auto import tqdm\n",
    "import numpy as np\n",
    "import os, random"
   ]
  },
  {
   "cell_type": "code",
   "execution_count": 24,
   "id": "bd122c56-94d0-4afb-b92d-fe39f76fba7a",
   "metadata": {},
   "outputs": [],
   "source": [
    "IMG_EXTENSIONS = [\".png\", \".jpg\", \".jpeg\"]\n",
    "\n",
    "class DiseasedPlants(torch.utils.data.Dataset):\n",
    "    def __init__(self, root_dir, split, size, disease_list = None, transform = None, pad_dir = None, pad_num = None):\n",
    "        assert split in ['train', 'test', 'val']\n",
    "        self.split = split\n",
    "        self.dir = os.path.join(root_dir, split)\n",
    "        self.size = size\n",
    "        self.pad_dir = pad_dir\n",
    "        self.num_disease = 0\n",
    "        self.num_clean = 0\n",
    "        \n",
    "        # where folders that match with disease_list are labeled as 1 and everything else is 0\n",
    "        self.disease_list = disease_list if not disease_list is None else [\"spot\", \"rot\", \"blight\", \"virus\", \"rust\",\n",
    "                                                                           \"mold\", \"spider\", \"scab\", \"bacterial\", \"mildew\"]\n",
    "        self.transform = transform if not transform is None else transforms.Compose([ \n",
    "            transforms.v2.Resize((size,size)), \n",
    "            transforms.v2.ToImageTensor(), \n",
    "            transforms.v2.ConvertImageDtype(),\n",
    "            transforms.v2.Normalize(mean=[0.485, 0.456, 0.406],\n",
    "                                 std=[0.229, 0.224, 0.225]),\n",
    "        ])\n",
    "\n",
    "        self.files_labels = []\n",
    "        for directory in os.listdir(self.dir):\n",
    "            file_path = os.path.join(self.dir, directory)\n",
    "            for img in os.listdir(file_path):\n",
    "                img_path = os.path.join(file_path, img)\n",
    "                if any(extension in img_path.lower() for extension in IMG_EXTENSIONS):\n",
    "                    if any(diseases in directory for diseases in self.disease_list):\n",
    "                        self.files_labels.append((img_path, 1))\n",
    "                        self.num_disease += 1\n",
    "                    else:\n",
    "                        self.files_labels.append((img_path, 0))\n",
    "                        self.num_clean += 1\n",
    "                    \n",
    "        self.pad_num = max(0, self.num_disease - self.num_clean) if pad_num is None else pad_num\n",
    "        if not self.pad_dir is None and self.pad_num > 0:\n",
    "            for image in np.random.choice(os.listdir(self.pad_dir), size=self.pad_num, replace=False):\n",
    "                if any(extension in image.lower() for extension in IMG_EXTENSIONS):\n",
    "                    self.files_labels.append((os.path.join(self.pad_dir, image), 0))\n",
    "                    self.num_clean += 1\n",
    "\n",
    "    def __len__(self):\n",
    "        return len(self.files_labels)\n",
    "\n",
    "    def __getitem__(self, idx):\n",
    "        image = self.transform(Image.open(self.files_labels[idx][0]).convert('RGB'))\n",
    "        return image, self.files_labels[idx][1]"
   ]
  },
  {
   "cell_type": "code",
   "execution_count": 25,
   "id": "9fdb4b00-cc55-4269-949e-c0126c6c0bde",
   "metadata": {},
   "outputs": [],
   "source": [
    "BATCH_SIZE = 64\n",
    "IMAGE_SIZE = 128\n",
    "DEVICE = \"xpu\"\n",
    "train_dataset = DiseasedPlants(\"./PlantDoc-Dataset/\", \"train\", IMAGE_SIZE, pad_dir=\"./imagenet-sample-images\")\n",
    "test_dataset = DiseasedPlants(\"./PlantDoc-Dataset/\", \"test\", IMAGE_SIZE, pad_dir=\"./imagenet-sample-images\")\n",
    "train_loader = torch.utils.data.DataLoader(train_dataset, batch_size=BATCH_SIZE, shuffle=True)\n",
    "test_loader = torch.utils.data.DataLoader(test_dataset, batch_size=BATCH_SIZE, shuffle=True)"
   ]
  },
  {
   "cell_type": "code",
   "execution_count": 26,
   "id": "4a7ab6b2-9909-4cfc-aa17-772c6974012f",
   "metadata": {},
   "outputs": [],
   "source": [
    "def train(model, optimizer, criterion, num_epochs=10, test_interval=1, save_dir=\"./checkpoints\"):\n",
    "    model.to(DEVICE)\n",
    "    best_acc = 0\n",
    "    if not os.path.exists(save_dir):\n",
    "        os.makedirs(save_dir)\n",
    "    for epoch in range(num_epochs):\n",
    "        model.train()\n",
    "        with tqdm(total=len(train_loader),\n",
    "                  desc=f'Epoch {epoch + 1}/{num_epochs}',\n",
    "                  position=0,\n",
    "                  leave=True) as pbar:\n",
    "            for image, label in train_loader:\n",
    "                image = image.to(DEVICE)\n",
    "                label = label.to(torch.float32).to(DEVICE)\n",
    "                pred = model(image)\n",
    "                loss = criterion(pred.squeeze(), label)\n",
    "                loss.backward()\n",
    "                optimizer.step()\n",
    "                optimizer.zero_grad()\n",
    "\n",
    "                # update progress bar\n",
    "                pbar.update(1)\n",
    "                pbar.set_postfix(loss=loss.item())\n",
    "            \n",
    "        if epoch % test_interval == 0:\n",
    "            model.eval()\n",
    "            total_acc = []\n",
    "            with torch.no_grad():\n",
    "                with tqdm(total=len(test_loader),\n",
    "                  desc=f'Testing: ',\n",
    "                  position=0,\n",
    "                  leave=True) as pbar:\n",
    "                    for image, label in test_loader:\n",
    "                        image = image.to(DEVICE)\n",
    "                        label = label.to(DEVICE)\n",
    "                        pred = model(image)\n",
    "                        total_acc.append((torch.mean(((pred > .5).int() == label).float())).item())\n",
    "                        pbar.update(1)\n",
    "                        pbar.set_postfix(acc=total_acc[-1])\n",
    "            final_acc = sum(total_acc)/ len(total_acc)\n",
    "            if final_acc > best_acc:\n",
    "                best_acc = final_acc\n",
    "                torch.save(model.state_dict(), os.path.join(save_dir, f\"epoch{epoch+1}.pth\"))\n",
    "            print(f\"Epoch {epoch + 1} got {final_acc:.3f} accuracy on test\")"
   ]
  },
  {
   "cell_type": "code",
   "execution_count": 27,
   "id": "6fa86fb9-a54b-4061-9891-bf636be742f3",
   "metadata": {},
   "outputs": [],
   "source": [
    "# mobile_net = torchvision.models.mobilenet_v2(weights=\"MobileNet_V2_Weights.DEFAULT\")\n",
    "mobile_net = torchvision.models.efficientnet_v2_s(weights=\"EfficientNet_V2_S_Weights.IMAGENET1K_V1\")\n",
    "mobile_net.classifier = torch.nn.Sequential(\n",
    "    torch.nn.Dropout(p=0.2, inplace=False),\n",
    "    torch.nn.Linear(in_features=1280, out_features=1, bias=True),\n",
    "    torch.nn.Sigmoid()\n",
    ")\n",
    "mobile_net.classifier.requires_grad = True\n",
    "criterion = torch.nn.BCELoss()\n",
    "optimizer = torch.optim.NAdam(mobile_net.classifier.parameters(), lr=.0005, weight_decay=0)"
   ]
  },
  {
   "cell_type": "code",
   "execution_count": null,
   "id": "f843091d-ab53-4bb2-b754-e69874210449",
   "metadata": {},
   "outputs": [
    {
     "data": {
      "application/vnd.jupyter.widget-view+json": {
       "model_id": "9991cc21f75f472f8828d660bdb9cdd6",
       "version_major": 2,
       "version_minor": 0
      },
      "text/plain": [
       "Epoch 1/10:   0%|          | 0/47 [00:00<?, ?it/s]"
      ]
     },
     "metadata": {},
     "output_type": "display_data"
    },
    {
     "data": {
      "application/vnd.jupyter.widget-view+json": {
       "model_id": "f1a9e8e2fc1f4747929d2f1c2ce7375e",
       "version_major": 2,
       "version_minor": 0
      },
      "text/plain": [
       "Testing:   0%|          | 0/5 [00:00<?, ?it/s]"
      ]
     },
     "metadata": {},
     "output_type": "display_data"
    },
    {
     "name": "stdout",
     "output_type": "stream",
     "text": [
      "Epoch 1 got 0.498 accuracy on test\n"
     ]
    },
    {
     "data": {
      "application/vnd.jupyter.widget-view+json": {
       "model_id": "6c525f274fb74659a5067d2d75cfa80f",
       "version_major": 2,
       "version_minor": 0
      },
      "text/plain": [
       "Epoch 2/10:   0%|          | 0/47 [00:00<?, ?it/s]"
      ]
     },
     "metadata": {},
     "output_type": "display_data"
    },
    {
     "data": {
      "application/vnd.jupyter.widget-view+json": {
       "model_id": "6fc7fb4f842c4faeb8fd253a74f8feb1",
       "version_major": 2,
       "version_minor": 0
      },
      "text/plain": [
       "Testing:   0%|          | 0/5 [00:00<?, ?it/s]"
      ]
     },
     "metadata": {},
     "output_type": "display_data"
    },
    {
     "name": "stdout",
     "output_type": "stream",
     "text": [
      "Epoch 2 got 0.506 accuracy on test\n"
     ]
    },
    {
     "data": {
      "application/vnd.jupyter.widget-view+json": {
       "model_id": "71f5d63236a4412ab76c6bd2bc2d3688",
       "version_major": 2,
       "version_minor": 0
      },
      "text/plain": [
       "Epoch 3/10:   0%|          | 0/47 [00:00<?, ?it/s]"
      ]
     },
     "metadata": {},
     "output_type": "display_data"
    }
   ],
   "source": [
    "train(mobile_net, optimizer, criterion)"
   ]
  },
  {
   "cell_type": "code",
   "execution_count": null,
   "id": "3dd39d43-ee04-411b-9fec-f97311d97a09",
   "metadata": {},
   "outputs": [],
   "source": []
  }
 ],
 "metadata": {
  "kernelspec": {
   "display_name": "pytorch-gpu",
   "language": "python",
   "name": "pytorch-gpu"
  },
  "language_info": {
   "codemirror_mode": {
    "name": "ipython",
    "version": 3
   },
   "file_extension": ".py",
   "mimetype": "text/x-python",
   "name": "python",
   "nbconvert_exporter": "python",
   "pygments_lexer": "ipython3",
   "version": "3.9.16"
  }
 },
 "nbformat": 4,
 "nbformat_minor": 5
}
